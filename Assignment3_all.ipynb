{
  "nbformat": 4,
  "nbformat_minor": 0,
  "metadata": {
    "colab": {
      "provenance": [],
      "authorship_tag": "ABX9TyMN2DKx8PyvZ5D2kHGWuPwl",
      "include_colab_link": true
    },
    "kernelspec": {
      "name": "python3",
      "display_name": "Python 3"
    },
    "language_info": {
      "name": "python"
    }
  },
  "cells": [
    {
      "cell_type": "markdown",
      "metadata": {
        "id": "view-in-github",
        "colab_type": "text"
      },
      "source": [
        "<a href=\"https://colab.research.google.com/github/M-Rishik-Reddy/AI-ML/blob/main/Assignment3_all.ipynb\" target=\"_parent\"><img src=\"https://colab.research.google.com/assets/colab-badge.svg\" alt=\"Open In Colab\"/></a>"
      ]
    },
    {
      "cell_type": "markdown",
      "source": [
        "part-1 Implementing a player game"
      ],
      "metadata": {
        "id": "DCxpYj4oyiAD"
      }
    },
    {
      "cell_type": "code",
      "source": [
        "class Game:\n",
        "def actions (self , state ):\n",
        "\n",
        "raise NotImplementedError\n",
        "def result (self , state , move ):\n",
        "raise NotImplementedError\n",
        "def is terminal (self , state ):\n",
        "\n",
        "return not self. actions (state)\n",
        "def utility (self , state , player ):\n",
        "\n",
        "raise NotImplementedError\n"
      ],
      "metadata": {
        "id": "Ol6OsvcGyxZD"
      },
      "execution_count": null,
      "outputs": []
    },
    {
      "cell_type": "code",
      "source": [
        "def play game (game , strategies : dict , verbose =False ):\n",
        "\n",
        "state = game. initial\n",
        "while not game. is terminal (state ):\n",
        "player = state. to move\n",
        "move = strategies [ player ](game , state)\n",
        "state = game. result (state , move)\n",
        "if verbose :\n",
        "print(’Player ’, player , ’move:’, move)\n",
        "print(state)\n",
        "return state\n"
      ],
      "metadata": {
        "id": "ie9iDel50lCC"
      },
      "execution_count": null,
      "outputs": []
    },
    {
      "cell_type": "markdown",
      "source": [
        "part-2 implement game stratergy"
      ],
      "metadata": {
        "id": "pQf6IoaD0n_n"
      }
    },
    {
      "cell_type": "code",
      "source": [
        "def minimax search (game , state ):\n",
        "\n",
        "player = state. to move\n",
        "def max value (state ):\n",
        "if game. is terminal (state ):\n",
        "return game. utility (state , player ), None\n",
        "v, move = −infinity , None\n",
        "for a in game. actions (state ):\n",
        "v2 , = min value (game. result (state , a))\n",
        "if v2 > v:\n",
        "v, move = v2 , a\n",
        "return v, move\n",
        "def min value (state ):\n",
        "if game. is terminal (state ):\n",
        "return game. utility (state , player ), None\n",
        "v, move = +infinity , None\n",
        "for a in game. actions (state ):\n",
        "v2 , = max value (game. result (state , a))\n",
        "if v2 < v:\n",
        "v, move = v2 , a\n",
        "return v, move\n",
        "return max value (state)\n",
        "infinity = math.inf\n"
      ],
      "metadata": {
        "id": "ct0wdCps0vO2"
      },
      "execution_count": null,
      "outputs": []
    },
    {
      "cell_type": "code",
      "source": [
        "def alphabeta search (game , state ):\n",
        "\n",
        "player = state. to move\n",
        "def max value (state , alpha , beta ):\n",
        "if game. is terminal (state ):\n",
        "return game. utility (state , player ), None\n",
        "v, move = −infinity , None\n",
        "for a in game. actions (state ):\n",
        "v2 , = min value (game. result (state , a), alpha , beta)\n",
        "if v2 > v:\n",
        "v, move = v2 , a\n",
        "alpha = max(alpha , v)\n",
        "if v >= beta:\n",
        "return v, move\n",
        "return v, move\n",
        "def min value (state , alpha , beta ):\n",
        "if game. is terminal (state ):\n",
        "return game. utility (state , player ), None\n",
        "v, move = +infinity , None\n",
        "for a in game. actions (state ):\n",
        "v2 , = max value (game. result (state , a), alpha , beta)\n",
        "if v2 < v:\n",
        "v, move = v2 , a\n",
        "beta = min(beta , v)\n",
        "if v <= alpha:\n",
        "return v, move\n",
        "return v, move\n",
        "return max value (state , −infinity , + infinity )\n",
        "Part 3 – Implement the Game Strategy using TicTocToe\n",
        "1. Implement TicToCToe game using init , actions, result, is terminal, utility,\n",
        "display constructors\n",
        "class TicTacToe (Game ):\n",
        "”””Play TicTacToe on an ‘height ‘ by ‘width‘ board, needing ‘k‘ in a row to win.\n",
        "’X’ plays first against ’O’.”””\n"
      ],
      "metadata": {
        "id": "e9KESy5z01J_"
      },
      "execution_count": null,
      "outputs": []
    },
    {
      "cell_type": "markdown",
      "source": [
        "part-3 Implement game startergy using tic-tac-toe"
      ],
      "metadata": {
        "id": "LlJOanTn05xP"
      }
    },
    {
      "cell_type": "code",
      "source": [
        "class TicTacToe (Game ):\n",
        "\n",
        "def i n i t (self , height =3, width =3, k=3):\n",
        "self.k = k # k in a row\n",
        "self. squares = {(x, y) for x in range (width) for y in range( height)}\n",
        "self. initial = Board( height =height , width=width , to move =’X’, utility =0)\n",
        "def actions (self , board ):\n",
        "\n",
        "return self. squares − set(board)\n",
        "def result (self , board , square ):\n",
        "\n",
        "player = board. to move\n",
        "board = board.new({square : player}, to move =(’O’ if player == ’X’ else ’X’))\n",
        "win = k i n r o w (board , player , square , self.k)\n",
        "board. utility = (0 if not win else +1 if player == ’X’ else −1)\n",
        "return board\n",
        "def utility (self , board , player ):\n",
        "\n",
        "return board. utility if player == ’X’ else −board. utility\n",
        "def is terminal (self , board ):\n",
        "\n",
        "return board. utility != 0 or len(self. squares ) == len(board)\n",
        "def display (self , board ): print(board)\n",
        "def k i n r o w (board , player , square , k):\n",
        "\n",
        "def in row (x, y, dx , dy):\n",
        "return 0 if board[x, y] != player else 1 + in row (x + dx , y + dy , dx , dy)\n",
        "return any( in row(∗square , dx , dy) + in row(∗square , −dx , −dy)−1>=k\n",
        "for (dx , dy) in ((0, 1), (1, 0), (1, 1), (1, −1)))\n"
      ],
      "metadata": {
        "id": "UmylOh3K1B7M"
      },
      "execution_count": null,
      "outputs": []
    },
    {
      "cell_type": "code",
      "source": [
        "class Board( defaultdict ):\n",
        "\n",
        "empty = ’.’\n",
        "off = ’#’\n",
        "def i n i t (self , width =8, height =8, to move =None , ∗∗kwds ):\n",
        "self. d i c t . update (width=width , height =height , to move = to move , ∗∗kwds)\n",
        "def new(self , changes : dict , ∗∗kwds) −> ’Board ’:\n",
        "\"Given a dict of {(x, y): contents} changes , return a new Board with the changes .\"\n",
        "board = Board(width=self.width , height =self.height , ∗∗kwds)\n",
        "board. update (self)\n",
        "board. update ( changes )\n",
        "return board\n",
        "def m i s s i n g (self , loc ):\n",
        "x, y = loc\n",
        "if 0 <= x < self.width and 0 <= y < self. height :\n",
        "return self.empty\n",
        "else:\n",
        "return self.off\n",
        "def h a s h (self ):\n",
        "return hash( tuple( sorted (self.items ()))) + hash(self. to move )\n",
        "def r e p r (self ):\n",
        "def row(y): return ’ ’.join(self[x, y] for x in range (self.width ))\n",
        "return ’\\n’.join(map(row , range(self. height ))) + ’\\n’\n",
        "3. Implement random player(game,state) and player(search algorithm)\n",
        "def random player (game , state ): return random . choice (list(game. actions ( state )))\n",
        "def player ( search algorithm ):\n",
        "\n",
        "return lambda game , state: search algorithm (game , state )[1]\n",
        "\n"
      ],
      "metadata": {
        "id": "H9ar5Dk51lAT"
      },
      "execution_count": null,
      "outputs": []
    }
  ]
}