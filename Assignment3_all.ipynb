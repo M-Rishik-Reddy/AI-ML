{
  "nbformat": 4,
  "nbformat_minor": 0,
  "metadata": {
    "colab": {
      "provenance": [],
      "authorship_tag": "ABX9TyOuk/6D6cHRtTCmfAIFIn3K",
      "include_colab_link": true
    },
    "kernelspec": {
      "name": "python3",
      "display_name": "Python 3"
    },
    "language_info": {
      "name": "python"
    }
  },
  "cells": [
    {
      "cell_type": "markdown",
      "metadata": {
        "id": "view-in-github",
        "colab_type": "text"
      },
      "source": [
        "<a href=\"https://colab.research.google.com/github/M-Rishik-Reddy/AI-ML/blob/main/Assignment3_all.ipynb\" target=\"_parent\"><img src=\"https://colab.research.google.com/assets/colab-badge.svg\" alt=\"Open In Colab\"/></a>"
      ]
    },
    {
      "cell_type": "markdown",
      "source": [
        "part-1 Implementing a player game"
      ],
      "metadata": {
        "id": "DCxpYj4oyiAD"
      }
    },
    {
      "cell_type": "code",
      "source": [
        "class Game:\n",
        "def actions (self , state ):\n",
        "”””Return a collection of the allowable moves from this state .”””\n",
        "raise NotImplementedError\n",
        "def result (self , state , move ):\n",
        "”””Return the state that results from making a move from a state .”””\n",
        "raise NotImplementedError\n",
        "def is terminal (self , state ):\n",
        "”””Return True if this is a final state for the game.”””\n",
        "return not self. actions (state)\n",
        "def utility (self , state , player ):\n",
        "”””Return the value of this final state to player.”””\n",
        "raise NotImplementedError\n"
      ],
      "metadata": {
        "id": "Ol6OsvcGyxZD"
      },
      "execution_count": null,
      "outputs": []
    }
  ]
}